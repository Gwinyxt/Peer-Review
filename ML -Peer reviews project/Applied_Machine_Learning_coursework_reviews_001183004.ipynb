{
  "nbformat": 4,
  "nbformat_minor": 0,
  "metadata": {
    "colab": {
      "name": "Applied Machine Learning coursework reviews 001183004.ipynb",
      "provenance": [],
      "collapsed_sections": []
    },
    "kernelspec": {
      "name": "python2",
      "display_name": "Python 2"
    }
  },
  "cells": [
    {
      "cell_type": "markdown",
      "metadata": {
        "id": "RM1iaD-ka3Y1"
      },
      "source": [
        "## 1. Loading the Dataset\n",
        "\n",
        "\n",
        "\n",
        "\n",
        " \n",
        "\n",
        "Now, lets get started by importing important packages and the dataset."
      ]
    },
    {
      "cell_type": "markdown",
      "metadata": {
        "id": "TQzIVnbnmWGM"
      },
      "source": [
        "**1.1 Import the necessary Python modules**"
      ]
    },
    {
      "cell_type": "code",
      "metadata": {
        "id": "ko6pLK6JmkYP"
      },
      "source": [
        "# Load python modules\n",
        "\n",
        "import numpy as np\n",
        "import matplotlib.pyplot as plt\n",
        "import pandas as pd\n",
        "from sklearn import model_selection\n",
        "\n"
      ],
      "execution_count": null,
      "outputs": []
    },
    {
      "cell_type": "code",
      "source": [
        "from IPython.display import HTML\n",
        "def pretty_print_df(value_counts_):\n",
        "  \"Quick function to display value counts more nicely\"\n",
        "  display(HTML(pd.DataFrame(value_counts_).to_html()))\n"
      ],
      "metadata": {
        "id": "ERsUHv-VjgSG"
      },
      "execution_count": null,
      "outputs": []
    },
    {
      "cell_type": "markdown",
      "metadata": {
        "id": "o5eEPJekd8QE"
      },
      "source": [
        "**1.2 Load Dataset **\n",
        "\n",
        "\n",
        "Using pandas to load the data and explore the data both with descriptive statistics and data visualization.\n"
      ]
    },
    {
      "cell_type": "code",
      "metadata": {
        "id": "yxRPwy7LQay_",
        "colab": {
          "resources": {
            "http://localhost:8080/nbextensions/google.colab/files.js": {
              "data": "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",
              "ok": true,
              "headers": [
                [
                  "content-type",
                  "application/javascript"
                ]
              ],
              "status": 200,
              "status_text": ""
            }
          },
          "base_uri": "https://localhost:8080/",
          "height": 74
        },
        "outputId": "6b8c0f3c-8a64-4819-c9ce-aa3bb929fcf0"
      },
      "source": [
        "# Load dataset from local drive (for colab notebook)\n",
        "from google.colab import files\n",
        "import io\n",
        "\n",
        "uploaded = files.upload()    # Will prompt you to select file: remember to choose the right one!\n",
        "data = pd.read_csv(io.BytesIO(uploaded['processed_reviews_split_surnamesABCD_minimal.csv']))\n",
        "\n",
        "\n"
      ],
      "execution_count": null,
      "outputs": [
        {
          "output_type": "display_data",
          "data": {
            "text/plain": [
              "<IPython.core.display.HTML object>"
            ],
            "text/html": [
              "\n",
              "     <input type=\"file\" id=\"files-ef863423-e582-4e95-a365-1b60db24ba44\" name=\"files[]\" multiple disabled\n",
              "        style=\"border:none\" />\n",
              "     <output id=\"result-ef863423-e582-4e95-a365-1b60db24ba44\">\n",
              "      Upload widget is only available when the cell has been executed in the\n",
              "      current browser session. Please rerun this cell to enable.\n",
              "      </output>\n",
              "      <script src=\"/nbextensions/google.colab/files.js\"></script> "
            ]
          },
          "metadata": {}
        },
        {
          "output_type": "stream",
          "name": "stdout",
          "text": [
            "Saving processed_reviews_split_surnamesABCD_minimal.csv to processed_reviews_split_surnamesABCD_minimal (2).csv\n"
          ]
        }
      ]
    },
    {
      "cell_type": "markdown",
      "metadata": {
        "id": "ZeYYLoV9b9fB"
      },
      "source": [
        "**1.2.1 Inspect Dataset **\n",
        "\n",
        "**1.2.1.1 Dimensions of Dataset **\n"
      ]
    },
    {
      "cell_type": "markdown",
      "source": [
        "# 2. DATA EXPLORATION"
      ],
      "metadata": {
        "id": "wuOMqq-Eg-eQ"
      }
    },
    {
      "cell_type": "code",
      "metadata": {
        "id": "7fmOZAI8nrQm",
        "colab": {
          "base_uri": "https://localhost:8080/"
        },
        "outputId": "960f56fd-da71-460f-fec9-d3e9d0bcdbcd"
      },
      "source": [
        "# list of column titles \n",
        "print(data.columns)"
      ],
      "execution_count": null,
      "outputs": [
        {
          "output_type": "stream",
          "name": "stdout",
          "text": [
            "Index(['review_id', 'text', 'confidence_score', 'review_score',\n",
            "       'acceptance_status'],\n",
            "      dtype='object')\n"
          ]
        }
      ]
    },
    {
      "cell_type": "code",
      "metadata": {
        "id": "kkN5TfTNoCJ1",
        "colab": {
          "base_uri": "https://localhost:8080/"
        },
        "outputId": "09fa2d55-730c-4f46-c5e0-9394883f9329"
      },
      "source": [
        "# list of column (field) data types\n",
        "print(data.dtypes)\n",
        "\n",
        "# Note: object is "
      ],
      "execution_count": null,
      "outputs": [
        {
          "output_type": "stream",
          "name": "stdout",
          "text": [
            "review_id             object\n",
            "text                  object\n",
            "confidence_score     float64\n",
            "review_score         float64\n",
            "acceptance_status     object\n",
            "dtype: object\n"
          ]
        }
      ]
    },
    {
      "cell_type": "markdown",
      "metadata": {
        "id": "vxkbyWHMd5aQ"
      },
      "source": [
        "# **2.1 Taking a peek at the Dataset **\n",
        "\n",
        "Python replaces empty/missing fields in the data with \"NaN\".\n",
        "**bold text**"
      ]
    },
    {
      "cell_type": "code",
      "metadata": {
        "id": "k68kOMPXeIK5",
        "colab": {
          "base_uri": "https://localhost:8080/",
          "height": 363
        },
        "outputId": "a631d4dd-4ecd-40c6-e9ff-66e9c4a70ed1"
      },
      "source": [
        "# showing the first N rows in a dataframe with the function \"head\"\n",
        "data.head(10)\n",
        "# 2nd, 3rd,7thto 9th row has a missing value\n",
        "\n"
      ],
      "execution_count": null,
      "outputs": [
        {
          "output_type": "execute_result",
          "data": {
            "text/plain": [
              "          review_id                                               text  \\\n",
              "0  iclr_review_0000  Predicting Medications from Diagnostic Codes w...   \n",
              "1  iclr_review_0001  Unrestricted Adversarial Examples via Semantic...   \n",
              "2  iclr_review_0002                                         #. #. #. #   \n",
              "3  iclr_review_0003  Sufficient Conditions for Robustness to Advers...   \n",
              "4  iclr_review_0004  Unsupervised Learning of the Set of Local Maxi...   \n",
              "5  iclr_review_0005  Global Optimality Conditions for Deep Neural N...   \n",
              "6  iclr_review_0006  Gaussian Process Behaviour in Wide Deep Neural...   \n",
              "7  iclr_review_0007  Neural-Guided Symbolic Regression with Asympto...   \n",
              "8  iclr_review_0008  Lazy-CFR: fast and near-optimal regret minimiz...   \n",
              "9  iclr_review_0009  Learning Functionally Decomposed Hierarchies f...   \n",
              "\n",
              "   confidence_score  review_score acceptance_status  \n",
              "0               3.0           6.0            Accept  \n",
              "1               NaN           6.0            Accept  \n",
              "2               NaN           6.0            Accept  \n",
              "3               3.0           5.0            Reject  \n",
              "4               3.0           8.0            Accept  \n",
              "5               4.0           7.0            Accept  \n",
              "6               4.0           6.0            Accept  \n",
              "7               NaN           8.0            Reject  \n",
              "8               NaN           8.0            Accept  \n",
              "9               NaN           6.0            Reject  "
            ],
            "text/html": [
              "\n",
              "  <div id=\"df-d3fdb783-4ceb-456e-ba83-bd3b1d7ad1d6\">\n",
              "    <div class=\"colab-df-container\">\n",
              "      <div>\n",
              "<style scoped>\n",
              "    .dataframe tbody tr th:only-of-type {\n",
              "        vertical-align: middle;\n",
              "    }\n",
              "\n",
              "    .dataframe tbody tr th {\n",
              "        vertical-align: top;\n",
              "    }\n",
              "\n",
              "    .dataframe thead th {\n",
              "        text-align: right;\n",
              "    }\n",
              "</style>\n",
              "<table border=\"1\" class=\"dataframe\">\n",
              "  <thead>\n",
              "    <tr style=\"text-align: right;\">\n",
              "      <th></th>\n",
              "      <th>review_id</th>\n",
              "      <th>text</th>\n",
              "      <th>confidence_score</th>\n",
              "      <th>review_score</th>\n",
              "      <th>acceptance_status</th>\n",
              "    </tr>\n",
              "  </thead>\n",
              "  <tbody>\n",
              "    <tr>\n",
              "      <th>0</th>\n",
              "      <td>iclr_review_0000</td>\n",
              "      <td>Predicting Medications from Diagnostic Codes w...</td>\n",
              "      <td>3.0</td>\n",
              "      <td>6.0</td>\n",
              "      <td>Accept</td>\n",
              "    </tr>\n",
              "    <tr>\n",
              "      <th>1</th>\n",
              "      <td>iclr_review_0001</td>\n",
              "      <td>Unrestricted Adversarial Examples via Semantic...</td>\n",
              "      <td>NaN</td>\n",
              "      <td>6.0</td>\n",
              "      <td>Accept</td>\n",
              "    </tr>\n",
              "    <tr>\n",
              "      <th>2</th>\n",
              "      <td>iclr_review_0002</td>\n",
              "      <td>#. #. #. #</td>\n",
              "      <td>NaN</td>\n",
              "      <td>6.0</td>\n",
              "      <td>Accept</td>\n",
              "    </tr>\n",
              "    <tr>\n",
              "      <th>3</th>\n",
              "      <td>iclr_review_0003</td>\n",
              "      <td>Sufficient Conditions for Robustness to Advers...</td>\n",
              "      <td>3.0</td>\n",
              "      <td>5.0</td>\n",
              "      <td>Reject</td>\n",
              "    </tr>\n",
              "    <tr>\n",
              "      <th>4</th>\n",
              "      <td>iclr_review_0004</td>\n",
              "      <td>Unsupervised Learning of the Set of Local Maxi...</td>\n",
              "      <td>3.0</td>\n",
              "      <td>8.0</td>\n",
              "      <td>Accept</td>\n",
              "    </tr>\n",
              "    <tr>\n",
              "      <th>5</th>\n",
              "      <td>iclr_review_0005</td>\n",
              "      <td>Global Optimality Conditions for Deep Neural N...</td>\n",
              "      <td>4.0</td>\n",
              "      <td>7.0</td>\n",
              "      <td>Accept</td>\n",
              "    </tr>\n",
              "    <tr>\n",
              "      <th>6</th>\n",
              "      <td>iclr_review_0006</td>\n",
              "      <td>Gaussian Process Behaviour in Wide Deep Neural...</td>\n",
              "      <td>4.0</td>\n",
              "      <td>6.0</td>\n",
              "      <td>Accept</td>\n",
              "    </tr>\n",
              "    <tr>\n",
              "      <th>7</th>\n",
              "      <td>iclr_review_0007</td>\n",
              "      <td>Neural-Guided Symbolic Regression with Asympto...</td>\n",
              "      <td>NaN</td>\n",
              "      <td>8.0</td>\n",
              "      <td>Reject</td>\n",
              "    </tr>\n",
              "    <tr>\n",
              "      <th>8</th>\n",
              "      <td>iclr_review_0008</td>\n",
              "      <td>Lazy-CFR: fast and near-optimal regret minimiz...</td>\n",
              "      <td>NaN</td>\n",
              "      <td>8.0</td>\n",
              "      <td>Accept</td>\n",
              "    </tr>\n",
              "    <tr>\n",
              "      <th>9</th>\n",
              "      <td>iclr_review_0009</td>\n",
              "      <td>Learning Functionally Decomposed Hierarchies f...</td>\n",
              "      <td>NaN</td>\n",
              "      <td>6.0</td>\n",
              "      <td>Reject</td>\n",
              "    </tr>\n",
              "  </tbody>\n",
              "</table>\n",
              "</div>\n",
              "      <button class=\"colab-df-convert\" onclick=\"convertToInteractive('df-d3fdb783-4ceb-456e-ba83-bd3b1d7ad1d6')\"\n",
              "              title=\"Convert this dataframe to an interactive table.\"\n",
              "              style=\"display:none;\">\n",
              "        \n",
              "  <svg xmlns=\"http://www.w3.org/2000/svg\" height=\"24px\"viewBox=\"0 0 24 24\"\n",
              "       width=\"24px\">\n",
              "    <path d=\"M0 0h24v24H0V0z\" fill=\"none\"/>\n",
              "    <path d=\"M18.56 5.44l.94 2.06.94-2.06 2.06-.94-2.06-.94-.94-2.06-.94 2.06-2.06.94zm-11 1L8.5 8.5l.94-2.06 2.06-.94-2.06-.94L8.5 2.5l-.94 2.06-2.06.94zm10 10l.94 2.06.94-2.06 2.06-.94-2.06-.94-.94-2.06-.94 2.06-2.06.94z\"/><path d=\"M17.41 7.96l-1.37-1.37c-.4-.4-.92-.59-1.43-.59-.52 0-1.04.2-1.43.59L10.3 9.45l-7.72 7.72c-.78.78-.78 2.05 0 2.83L4 21.41c.39.39.9.59 1.41.59.51 0 1.02-.2 1.41-.59l7.78-7.78 2.81-2.81c.8-.78.8-2.07 0-2.86zM5.41 20L4 18.59l7.72-7.72 1.47 1.35L5.41 20z\"/>\n",
              "  </svg>\n",
              "      </button>\n",
              "      \n",
              "  <style>\n",
              "    .colab-df-container {\n",
              "      display:flex;\n",
              "      flex-wrap:wrap;\n",
              "      gap: 12px;\n",
              "    }\n",
              "\n",
              "    .colab-df-convert {\n",
              "      background-color: #E8F0FE;\n",
              "      border: none;\n",
              "      border-radius: 50%;\n",
              "      cursor: pointer;\n",
              "      display: none;\n",
              "      fill: #1967D2;\n",
              "      height: 32px;\n",
              "      padding: 0 0 0 0;\n",
              "      width: 32px;\n",
              "    }\n",
              "\n",
              "    .colab-df-convert:hover {\n",
              "      background-color: #E2EBFA;\n",
              "      box-shadow: 0px 1px 2px rgba(60, 64, 67, 0.3), 0px 1px 3px 1px rgba(60, 64, 67, 0.15);\n",
              "      fill: #174EA6;\n",
              "    }\n",
              "\n",
              "    [theme=dark] .colab-df-convert {\n",
              "      background-color: #3B4455;\n",
              "      fill: #D2E3FC;\n",
              "    }\n",
              "\n",
              "    [theme=dark] .colab-df-convert:hover {\n",
              "      background-color: #434B5C;\n",
              "      box-shadow: 0px 1px 3px 1px rgba(0, 0, 0, 0.15);\n",
              "      filter: drop-shadow(0px 1px 2px rgba(0, 0, 0, 0.3));\n",
              "      fill: #FFFFFF;\n",
              "    }\n",
              "  </style>\n",
              "\n",
              "      <script>\n",
              "        const buttonEl =\n",
              "          document.querySelector('#df-d3fdb783-4ceb-456e-ba83-bd3b1d7ad1d6 button.colab-df-convert');\n",
              "        buttonEl.style.display =\n",
              "          google.colab.kernel.accessAllowed ? 'block' : 'none';\n",
              "\n",
              "        async function convertToInteractive(key) {\n",
              "          const element = document.querySelector('#df-d3fdb783-4ceb-456e-ba83-bd3b1d7ad1d6');\n",
              "          const dataTable =\n",
              "            await google.colab.kernel.invokeFunction('convertToInteractive',\n",
              "                                                     [key], {});\n",
              "          if (!dataTable) return;\n",
              "\n",
              "          const docLinkHtml = 'Like what you see? Visit the ' +\n",
              "            '<a target=\"_blank\" href=https://colab.research.google.com/notebooks/data_table.ipynb>data table notebook</a>'\n",
              "            + ' to learn more about interactive tables.';\n",
              "          element.innerHTML = '';\n",
              "          dataTable['output_type'] = 'display_data';\n",
              "          await google.colab.output.renderOutput(dataTable, element);\n",
              "          const docLink = document.createElement('div');\n",
              "          docLink.innerHTML = docLinkHtml;\n",
              "          element.appendChild(docLink);\n",
              "        }\n",
              "      </script>\n",
              "    </div>\n",
              "  </div>\n",
              "  "
            ]
          },
          "metadata": {},
          "execution_count": 74
        }
      ]
    },
    {
      "cell_type": "code",
      "source": [
        "# To show a random subset of the data with the function \"sample\":\n",
        "data.sample(10)"
      ],
      "metadata": {
        "id": "DO5NliOQkEzj",
        "colab": {
          "base_uri": "https://localhost:8080/",
          "height": 363
        },
        "outputId": "00a85b2c-c7cc-423a-832b-7eded2d9fb29"
      },
      "execution_count": null,
      "outputs": [
        {
          "output_type": "execute_result",
          "data": {
            "text/plain": [
              "             review_id                                               text  \\\n",
              "2968  iclr_review_2968  GraphSeq2Seq: Graph-Sequence-to-Sequence for N...   \n",
              "3043  iclr_review_3043  Mean-field Behaviour of Neural Tangent Kernel ...   \n",
              "605   iclr_review_0605  Adversarial Imitation Attack. Deep learning mo...   \n",
              "1686  iclr_review_1686  Nonparametrically Learning Activation Function...   \n",
              "2560  iclr_review_2560                                                NaN   \n",
              "3252  iclr_review_3252  Revisiting Fine-tuning for Few-shot Learning. ...   \n",
              "1085  iclr_review_1085  Visceral Machines: Risk-Aversion in Reinforcem...   \n",
              "4417  iclr_review_4417  Unsupervised Disentanglement of Pose, Appearan...   \n",
              "553   iclr_review_0553  A Dynamic Approach to Accelerate Deep Learning...   \n",
              "1443  iclr_review_1443  Faster Distributed Synchronous SGD with Weak S...   \n",
              "\n",
              "      confidence_score  review_score acceptance_status  \n",
              "2968               3.0           6.0            Reject  \n",
              "3043               NaN           3.0            Reject  \n",
              "605                NaN           3.0            Reject  \n",
              "1686               4.0           5.0            Accept  \n",
              "2560               4.0           7.0            Accept  \n",
              "3252               NaN           3.0               NaN  \n",
              "1085               5.0           7.0            Accept  \n",
              "4417               NaN           6.0            Reject  \n",
              "553                NaN           3.0            Reject  \n",
              "1443               4.0           3.0            Reject  "
            ],
            "text/html": [
              "\n",
              "  <div id=\"df-e1c0da45-90e0-450b-8c89-34d21b2491f8\">\n",
              "    <div class=\"colab-df-container\">\n",
              "      <div>\n",
              "<style scoped>\n",
              "    .dataframe tbody tr th:only-of-type {\n",
              "        vertical-align: middle;\n",
              "    }\n",
              "\n",
              "    .dataframe tbody tr th {\n",
              "        vertical-align: top;\n",
              "    }\n",
              "\n",
              "    .dataframe thead th {\n",
              "        text-align: right;\n",
              "    }\n",
              "</style>\n",
              "<table border=\"1\" class=\"dataframe\">\n",
              "  <thead>\n",
              "    <tr style=\"text-align: right;\">\n",
              "      <th></th>\n",
              "      <th>review_id</th>\n",
              "      <th>text</th>\n",
              "      <th>confidence_score</th>\n",
              "      <th>review_score</th>\n",
              "      <th>acceptance_status</th>\n",
              "    </tr>\n",
              "  </thead>\n",
              "  <tbody>\n",
              "    <tr>\n",
              "      <th>2968</th>\n",
              "      <td>iclr_review_2968</td>\n",
              "      <td>GraphSeq2Seq: Graph-Sequence-to-Sequence for N...</td>\n",
              "      <td>3.0</td>\n",
              "      <td>6.0</td>\n",
              "      <td>Reject</td>\n",
              "    </tr>\n",
              "    <tr>\n",
              "      <th>3043</th>\n",
              "      <td>iclr_review_3043</td>\n",
              "      <td>Mean-field Behaviour of Neural Tangent Kernel ...</td>\n",
              "      <td>NaN</td>\n",
              "      <td>3.0</td>\n",
              "      <td>Reject</td>\n",
              "    </tr>\n",
              "    <tr>\n",
              "      <th>605</th>\n",
              "      <td>iclr_review_0605</td>\n",
              "      <td>Adversarial Imitation Attack. Deep learning mo...</td>\n",
              "      <td>NaN</td>\n",
              "      <td>3.0</td>\n",
              "      <td>Reject</td>\n",
              "    </tr>\n",
              "    <tr>\n",
              "      <th>1686</th>\n",
              "      <td>iclr_review_1686</td>\n",
              "      <td>Nonparametrically Learning Activation Function...</td>\n",
              "      <td>4.0</td>\n",
              "      <td>5.0</td>\n",
              "      <td>Accept</td>\n",
              "    </tr>\n",
              "    <tr>\n",
              "      <th>2560</th>\n",
              "      <td>iclr_review_2560</td>\n",
              "      <td>NaN</td>\n",
              "      <td>4.0</td>\n",
              "      <td>7.0</td>\n",
              "      <td>Accept</td>\n",
              "    </tr>\n",
              "    <tr>\n",
              "      <th>3252</th>\n",
              "      <td>iclr_review_3252</td>\n",
              "      <td>Revisiting Fine-tuning for Few-shot Learning. ...</td>\n",
              "      <td>NaN</td>\n",
              "      <td>3.0</td>\n",
              "      <td>NaN</td>\n",
              "    </tr>\n",
              "    <tr>\n",
              "      <th>1085</th>\n",
              "      <td>iclr_review_1085</td>\n",
              "      <td>Visceral Machines: Risk-Aversion in Reinforcem...</td>\n",
              "      <td>5.0</td>\n",
              "      <td>7.0</td>\n",
              "      <td>Accept</td>\n",
              "    </tr>\n",
              "    <tr>\n",
              "      <th>4417</th>\n",
              "      <td>iclr_review_4417</td>\n",
              "      <td>Unsupervised Disentanglement of Pose, Appearan...</td>\n",
              "      <td>NaN</td>\n",
              "      <td>6.0</td>\n",
              "      <td>Reject</td>\n",
              "    </tr>\n",
              "    <tr>\n",
              "      <th>553</th>\n",
              "      <td>iclr_review_0553</td>\n",
              "      <td>A Dynamic Approach to Accelerate Deep Learning...</td>\n",
              "      <td>NaN</td>\n",
              "      <td>3.0</td>\n",
              "      <td>Reject</td>\n",
              "    </tr>\n",
              "    <tr>\n",
              "      <th>1443</th>\n",
              "      <td>iclr_review_1443</td>\n",
              "      <td>Faster Distributed Synchronous SGD with Weak S...</td>\n",
              "      <td>4.0</td>\n",
              "      <td>3.0</td>\n",
              "      <td>Reject</td>\n",
              "    </tr>\n",
              "  </tbody>\n",
              "</table>\n",
              "</div>\n",
              "      <button class=\"colab-df-convert\" onclick=\"convertToInteractive('df-e1c0da45-90e0-450b-8c89-34d21b2491f8')\"\n",
              "              title=\"Convert this dataframe to an interactive table.\"\n",
              "              style=\"display:none;\">\n",
              "        \n",
              "  <svg xmlns=\"http://www.w3.org/2000/svg\" height=\"24px\"viewBox=\"0 0 24 24\"\n",
              "       width=\"24px\">\n",
              "    <path d=\"M0 0h24v24H0V0z\" fill=\"none\"/>\n",
              "    <path d=\"M18.56 5.44l.94 2.06.94-2.06 2.06-.94-2.06-.94-.94-2.06-.94 2.06-2.06.94zm-11 1L8.5 8.5l.94-2.06 2.06-.94-2.06-.94L8.5 2.5l-.94 2.06-2.06.94zm10 10l.94 2.06.94-2.06 2.06-.94-2.06-.94-.94-2.06-.94 2.06-2.06.94z\"/><path d=\"M17.41 7.96l-1.37-1.37c-.4-.4-.92-.59-1.43-.59-.52 0-1.04.2-1.43.59L10.3 9.45l-7.72 7.72c-.78.78-.78 2.05 0 2.83L4 21.41c.39.39.9.59 1.41.59.51 0 1.02-.2 1.41-.59l7.78-7.78 2.81-2.81c.8-.78.8-2.07 0-2.86zM5.41 20L4 18.59l7.72-7.72 1.47 1.35L5.41 20z\"/>\n",
              "  </svg>\n",
              "      </button>\n",
              "      \n",
              "  <style>\n",
              "    .colab-df-container {\n",
              "      display:flex;\n",
              "      flex-wrap:wrap;\n",
              "      gap: 12px;\n",
              "    }\n",
              "\n",
              "    .colab-df-convert {\n",
              "      background-color: #E8F0FE;\n",
              "      border: none;\n",
              "      border-radius: 50%;\n",
              "      cursor: pointer;\n",
              "      display: none;\n",
              "      fill: #1967D2;\n",
              "      height: 32px;\n",
              "      padding: 0 0 0 0;\n",
              "      width: 32px;\n",
              "    }\n",
              "\n",
              "    .colab-df-convert:hover {\n",
              "      background-color: #E2EBFA;\n",
              "      box-shadow: 0px 1px 2px rgba(60, 64, 67, 0.3), 0px 1px 3px 1px rgba(60, 64, 67, 0.15);\n",
              "      fill: #174EA6;\n",
              "    }\n",
              "\n",
              "    [theme=dark] .colab-df-convert {\n",
              "      background-color: #3B4455;\n",
              "      fill: #D2E3FC;\n",
              "    }\n",
              "\n",
              "    [theme=dark] .colab-df-convert:hover {\n",
              "      background-color: #434B5C;\n",
              "      box-shadow: 0px 1px 3px 1px rgba(0, 0, 0, 0.15);\n",
              "      filter: drop-shadow(0px 1px 2px rgba(0, 0, 0, 0.3));\n",
              "      fill: #FFFFFF;\n",
              "    }\n",
              "  </style>\n",
              "\n",
              "      <script>\n",
              "        const buttonEl =\n",
              "          document.querySelector('#df-e1c0da45-90e0-450b-8c89-34d21b2491f8 button.colab-df-convert');\n",
              "        buttonEl.style.display =\n",
              "          google.colab.kernel.accessAllowed ? 'block' : 'none';\n",
              "\n",
              "        async function convertToInteractive(key) {\n",
              "          const element = document.querySelector('#df-e1c0da45-90e0-450b-8c89-34d21b2491f8');\n",
              "          const dataTable =\n",
              "            await google.colab.kernel.invokeFunction('convertToInteractive',\n",
              "                                                     [key], {});\n",
              "          if (!dataTable) return;\n",
              "\n",
              "          const docLinkHtml = 'Like what you see? Visit the ' +\n",
              "            '<a target=\"_blank\" href=https://colab.research.google.com/notebooks/data_table.ipynb>data table notebook</a>'\n",
              "            + ' to learn more about interactive tables.';\n",
              "          element.innerHTML = '';\n",
              "          dataTable['output_type'] = 'display_data';\n",
              "          await google.colab.output.renderOutput(dataTable, element);\n",
              "          const docLink = document.createElement('div');\n",
              "          docLink.innerHTML = docLinkHtml;\n",
              "          element.appendChild(docLink);\n",
              "        }\n",
              "      </script>\n",
              "    </div>\n",
              "  </div>\n",
              "  "
            ]
          },
          "metadata": {},
          "execution_count": 75
        }
      ]
    },
    {
      "cell_type": "markdown",
      "source": [
        "# 2.2  The Summary statistics for numerical features"
      ],
      "metadata": {
        "id": "LKh_54sNhlJD"
      }
    },
    {
      "cell_type": "code",
      "source": [
        "# The Summary statistics for numerical features\n",
        "data.describe()\n"
      ],
      "metadata": {
        "id": "4ZPqRZdkfSTy",
        "colab": {
          "base_uri": "https://localhost:8080/",
          "height": 300
        },
        "outputId": "e6a45980-9248-41b1-ff5f-7706175d914d"
      },
      "execution_count": null,
      "outputs": [
        {
          "output_type": "execute_result",
          "data": {
            "text/plain": [
              "       confidence_score  review_score\n",
              "count       3318.000000   6119.000000\n",
              "mean           3.795057      4.689492\n",
              "std            0.815260      2.192145\n",
              "min            1.000000     -1.000000\n",
              "25%            3.000000      3.000000\n",
              "50%            4.000000      5.000000\n",
              "75%            4.000000      6.000000\n",
              "max            5.000000     10.000000"
            ],
            "text/html": [
              "\n",
              "  <div id=\"df-60c60e21-eece-45cf-938f-1abef17145ed\">\n",
              "    <div class=\"colab-df-container\">\n",
              "      <div>\n",
              "<style scoped>\n",
              "    .dataframe tbody tr th:only-of-type {\n",
              "        vertical-align: middle;\n",
              "    }\n",
              "\n",
              "    .dataframe tbody tr th {\n",
              "        vertical-align: top;\n",
              "    }\n",
              "\n",
              "    .dataframe thead th {\n",
              "        text-align: right;\n",
              "    }\n",
              "</style>\n",
              "<table border=\"1\" class=\"dataframe\">\n",
              "  <thead>\n",
              "    <tr style=\"text-align: right;\">\n",
              "      <th></th>\n",
              "      <th>confidence_score</th>\n",
              "      <th>review_score</th>\n",
              "    </tr>\n",
              "  </thead>\n",
              "  <tbody>\n",
              "    <tr>\n",
              "      <th>count</th>\n",
              "      <td>3318.000000</td>\n",
              "      <td>6119.000000</td>\n",
              "    </tr>\n",
              "    <tr>\n",
              "      <th>mean</th>\n",
              "      <td>3.795057</td>\n",
              "      <td>4.689492</td>\n",
              "    </tr>\n",
              "    <tr>\n",
              "      <th>std</th>\n",
              "      <td>0.815260</td>\n",
              "      <td>2.192145</td>\n",
              "    </tr>\n",
              "    <tr>\n",
              "      <th>min</th>\n",
              "      <td>1.000000</td>\n",
              "      <td>-1.000000</td>\n",
              "    </tr>\n",
              "    <tr>\n",
              "      <th>25%</th>\n",
              "      <td>3.000000</td>\n",
              "      <td>3.000000</td>\n",
              "    </tr>\n",
              "    <tr>\n",
              "      <th>50%</th>\n",
              "      <td>4.000000</td>\n",
              "      <td>5.000000</td>\n",
              "    </tr>\n",
              "    <tr>\n",
              "      <th>75%</th>\n",
              "      <td>4.000000</td>\n",
              "      <td>6.000000</td>\n",
              "    </tr>\n",
              "    <tr>\n",
              "      <th>max</th>\n",
              "      <td>5.000000</td>\n",
              "      <td>10.000000</td>\n",
              "    </tr>\n",
              "  </tbody>\n",
              "</table>\n",
              "</div>\n",
              "      <button class=\"colab-df-convert\" onclick=\"convertToInteractive('df-60c60e21-eece-45cf-938f-1abef17145ed')\"\n",
              "              title=\"Convert this dataframe to an interactive table.\"\n",
              "              style=\"display:none;\">\n",
              "        \n",
              "  <svg xmlns=\"http://www.w3.org/2000/svg\" height=\"24px\"viewBox=\"0 0 24 24\"\n",
              "       width=\"24px\">\n",
              "    <path d=\"M0 0h24v24H0V0z\" fill=\"none\"/>\n",
              "    <path d=\"M18.56 5.44l.94 2.06.94-2.06 2.06-.94-2.06-.94-.94-2.06-.94 2.06-2.06.94zm-11 1L8.5 8.5l.94-2.06 2.06-.94-2.06-.94L8.5 2.5l-.94 2.06-2.06.94zm10 10l.94 2.06.94-2.06 2.06-.94-2.06-.94-.94-2.06-.94 2.06-2.06.94z\"/><path d=\"M17.41 7.96l-1.37-1.37c-.4-.4-.92-.59-1.43-.59-.52 0-1.04.2-1.43.59L10.3 9.45l-7.72 7.72c-.78.78-.78 2.05 0 2.83L4 21.41c.39.39.9.59 1.41.59.51 0 1.02-.2 1.41-.59l7.78-7.78 2.81-2.81c.8-.78.8-2.07 0-2.86zM5.41 20L4 18.59l7.72-7.72 1.47 1.35L5.41 20z\"/>\n",
              "  </svg>\n",
              "      </button>\n",
              "      \n",
              "  <style>\n",
              "    .colab-df-container {\n",
              "      display:flex;\n",
              "      flex-wrap:wrap;\n",
              "      gap: 12px;\n",
              "    }\n",
              "\n",
              "    .colab-df-convert {\n",
              "      background-color: #E8F0FE;\n",
              "      border: none;\n",
              "      border-radius: 50%;\n",
              "      cursor: pointer;\n",
              "      display: none;\n",
              "      fill: #1967D2;\n",
              "      height: 32px;\n",
              "      padding: 0 0 0 0;\n",
              "      width: 32px;\n",
              "    }\n",
              "\n",
              "    .colab-df-convert:hover {\n",
              "      background-color: #E2EBFA;\n",
              "      box-shadow: 0px 1px 2px rgba(60, 64, 67, 0.3), 0px 1px 3px 1px rgba(60, 64, 67, 0.15);\n",
              "      fill: #174EA6;\n",
              "    }\n",
              "\n",
              "    [theme=dark] .colab-df-convert {\n",
              "      background-color: #3B4455;\n",
              "      fill: #D2E3FC;\n",
              "    }\n",
              "\n",
              "    [theme=dark] .colab-df-convert:hover {\n",
              "      background-color: #434B5C;\n",
              "      box-shadow: 0px 1px 3px 1px rgba(0, 0, 0, 0.15);\n",
              "      filter: drop-shadow(0px 1px 2px rgba(0, 0, 0, 0.3));\n",
              "      fill: #FFFFFF;\n",
              "    }\n",
              "  </style>\n",
              "\n",
              "      <script>\n",
              "        const buttonEl =\n",
              "          document.querySelector('#df-60c60e21-eece-45cf-938f-1abef17145ed button.colab-df-convert');\n",
              "        buttonEl.style.display =\n",
              "          google.colab.kernel.accessAllowed ? 'block' : 'none';\n",
              "\n",
              "        async function convertToInteractive(key) {\n",
              "          const element = document.querySelector('#df-60c60e21-eece-45cf-938f-1abef17145ed');\n",
              "          const dataTable =\n",
              "            await google.colab.kernel.invokeFunction('convertToInteractive',\n",
              "                                                     [key], {});\n",
              "          if (!dataTable) return;\n",
              "\n",
              "          const docLinkHtml = 'Like what you see? Visit the ' +\n",
              "            '<a target=\"_blank\" href=https://colab.research.google.com/notebooks/data_table.ipynb>data table notebook</a>'\n",
              "            + ' to learn more about interactive tables.';\n",
              "          element.innerHTML = '';\n",
              "          dataTable['output_type'] = 'display_data';\n",
              "          await google.colab.output.renderOutput(dataTable, element);\n",
              "          const docLink = document.createElement('div');\n",
              "          docLink.innerHTML = docLinkHtml;\n",
              "          element.appendChild(docLink);\n",
              "        }\n",
              "      </script>\n",
              "    </div>\n",
              "  </div>\n",
              "  "
            ]
          },
          "metadata": {},
          "execution_count": 76
        }
      ]
    },
    {
      "cell_type": "markdown",
      "source": [
        "# 2.3 To find out how many missing values (or NaN values) there are in each feature, using Pandas `isna()` function. "
      ],
      "metadata": {
        "id": "HICSrJCuxQs3"
      }
    },
    {
      "cell_type": "code",
      "source": [
        "# Number of missing values per column\n",
        "data.isna().sum()"
      ],
      "metadata": {
        "id": "TN7ULKKQv3te",
        "colab": {
          "base_uri": "https://localhost:8080/"
        },
        "outputId": "462af48b-6ddf-4a39-c051-f26d8a6061f9"
      },
      "execution_count": null,
      "outputs": [
        {
          "output_type": "execute_result",
          "data": {
            "text/plain": [
              "review_id               0\n",
              "text                   84\n",
              "confidence_score     2801\n",
              "review_score            0\n",
              "acceptance_status     390\n",
              "dtype: int64"
            ]
          },
          "metadata": {},
          "execution_count": 77
        }
      ]
    },
    {
      "cell_type": "markdown",
      "source": [
        ""
      ],
      "metadata": {
        "id": "PMOjQi3LiF7v"
      }
    },
    {
      "cell_type": "markdown",
      "metadata": {
        "id": "1gUPCuUlcm4K"
      },
      "source": [
        "## **2.3.1 Remove all rows that contain missing data**\n"
      ]
    },
    {
      "cell_type": "code",
      "metadata": {
        "id": "XPq8zEp5zRNk",
        "colab": {
          "base_uri": "https://localhost:8080/",
          "height": 372
        },
        "outputId": "83b680a8-9d11-45d4-ea39-4369ccfb701f"
      },
      "source": [
        "# remove all rows with missing data\n",
        "# dropna removes all rows that contain at least one missing value\n",
        "print(f'Original dataset length: {len(data)}')\n",
        "data = data.dropna()\n",
        "print(f'Dataset length after removing missing rows: {len(data)}')\n",
        "print()\n",
        "print(data[['review_id']].head(5))\n",
        "data.head(5)\n",
        "\n"
      ],
      "execution_count": null,
      "outputs": [
        {
          "output_type": "stream",
          "name": "stdout",
          "text": [
            "Original dataset length: 6119\n",
            "Dataset length after removing missing rows: 3275\n",
            "\n",
            "          review_id\n",
            "0  iclr_review_0000\n",
            "3  iclr_review_0003\n",
            "4  iclr_review_0004\n",
            "5  iclr_review_0005\n",
            "6  iclr_review_0006\n"
          ]
        },
        {
          "output_type": "execute_result",
          "data": {
            "text/plain": [
              "          review_id                                               text  \\\n",
              "0  iclr_review_0000  Predicting Medications from Diagnostic Codes w...   \n",
              "3  iclr_review_0003  Sufficient Conditions for Robustness to Advers...   \n",
              "4  iclr_review_0004  Unsupervised Learning of the Set of Local Maxi...   \n",
              "5  iclr_review_0005  Global Optimality Conditions for Deep Neural N...   \n",
              "6  iclr_review_0006  Gaussian Process Behaviour in Wide Deep Neural...   \n",
              "\n",
              "   confidence_score  review_score acceptance_status  \n",
              "0               3.0           6.0            Accept  \n",
              "3               3.0           5.0            Reject  \n",
              "4               3.0           8.0            Accept  \n",
              "5               4.0           7.0            Accept  \n",
              "6               4.0           6.0            Accept  "
            ],
            "text/html": [
              "\n",
              "  <div id=\"df-6b3316c5-50df-4ada-b1b0-52b619a0faf1\">\n",
              "    <div class=\"colab-df-container\">\n",
              "      <div>\n",
              "<style scoped>\n",
              "    .dataframe tbody tr th:only-of-type {\n",
              "        vertical-align: middle;\n",
              "    }\n",
              "\n",
              "    .dataframe tbody tr th {\n",
              "        vertical-align: top;\n",
              "    }\n",
              "\n",
              "    .dataframe thead th {\n",
              "        text-align: right;\n",
              "    }\n",
              "</style>\n",
              "<table border=\"1\" class=\"dataframe\">\n",
              "  <thead>\n",
              "    <tr style=\"text-align: right;\">\n",
              "      <th></th>\n",
              "      <th>review_id</th>\n",
              "      <th>text</th>\n",
              "      <th>confidence_score</th>\n",
              "      <th>review_score</th>\n",
              "      <th>acceptance_status</th>\n",
              "    </tr>\n",
              "  </thead>\n",
              "  <tbody>\n",
              "    <tr>\n",
              "      <th>0</th>\n",
              "      <td>iclr_review_0000</td>\n",
              "      <td>Predicting Medications from Diagnostic Codes w...</td>\n",
              "      <td>3.0</td>\n",
              "      <td>6.0</td>\n",
              "      <td>Accept</td>\n",
              "    </tr>\n",
              "    <tr>\n",
              "      <th>3</th>\n",
              "      <td>iclr_review_0003</td>\n",
              "      <td>Sufficient Conditions for Robustness to Advers...</td>\n",
              "      <td>3.0</td>\n",
              "      <td>5.0</td>\n",
              "      <td>Reject</td>\n",
              "    </tr>\n",
              "    <tr>\n",
              "      <th>4</th>\n",
              "      <td>iclr_review_0004</td>\n",
              "      <td>Unsupervised Learning of the Set of Local Maxi...</td>\n",
              "      <td>3.0</td>\n",
              "      <td>8.0</td>\n",
              "      <td>Accept</td>\n",
              "    </tr>\n",
              "    <tr>\n",
              "      <th>5</th>\n",
              "      <td>iclr_review_0005</td>\n",
              "      <td>Global Optimality Conditions for Deep Neural N...</td>\n",
              "      <td>4.0</td>\n",
              "      <td>7.0</td>\n",
              "      <td>Accept</td>\n",
              "    </tr>\n",
              "    <tr>\n",
              "      <th>6</th>\n",
              "      <td>iclr_review_0006</td>\n",
              "      <td>Gaussian Process Behaviour in Wide Deep Neural...</td>\n",
              "      <td>4.0</td>\n",
              "      <td>6.0</td>\n",
              "      <td>Accept</td>\n",
              "    </tr>\n",
              "  </tbody>\n",
              "</table>\n",
              "</div>\n",
              "      <button class=\"colab-df-convert\" onclick=\"convertToInteractive('df-6b3316c5-50df-4ada-b1b0-52b619a0faf1')\"\n",
              "              title=\"Convert this dataframe to an interactive table.\"\n",
              "              style=\"display:none;\">\n",
              "        \n",
              "  <svg xmlns=\"http://www.w3.org/2000/svg\" height=\"24px\"viewBox=\"0 0 24 24\"\n",
              "       width=\"24px\">\n",
              "    <path d=\"M0 0h24v24H0V0z\" fill=\"none\"/>\n",
              "    <path d=\"M18.56 5.44l.94 2.06.94-2.06 2.06-.94-2.06-.94-.94-2.06-.94 2.06-2.06.94zm-11 1L8.5 8.5l.94-2.06 2.06-.94-2.06-.94L8.5 2.5l-.94 2.06-2.06.94zm10 10l.94 2.06.94-2.06 2.06-.94-2.06-.94-.94-2.06-.94 2.06-2.06.94z\"/><path d=\"M17.41 7.96l-1.37-1.37c-.4-.4-.92-.59-1.43-.59-.52 0-1.04.2-1.43.59L10.3 9.45l-7.72 7.72c-.78.78-.78 2.05 0 2.83L4 21.41c.39.39.9.59 1.41.59.51 0 1.02-.2 1.41-.59l7.78-7.78 2.81-2.81c.8-.78.8-2.07 0-2.86zM5.41 20L4 18.59l7.72-7.72 1.47 1.35L5.41 20z\"/>\n",
              "  </svg>\n",
              "      </button>\n",
              "      \n",
              "  <style>\n",
              "    .colab-df-container {\n",
              "      display:flex;\n",
              "      flex-wrap:wrap;\n",
              "      gap: 12px;\n",
              "    }\n",
              "\n",
              "    .colab-df-convert {\n",
              "      background-color: #E8F0FE;\n",
              "      border: none;\n",
              "      border-radius: 50%;\n",
              "      cursor: pointer;\n",
              "      display: none;\n",
              "      fill: #1967D2;\n",
              "      height: 32px;\n",
              "      padding: 0 0 0 0;\n",
              "      width: 32px;\n",
              "    }\n",
              "\n",
              "    .colab-df-convert:hover {\n",
              "      background-color: #E2EBFA;\n",
              "      box-shadow: 0px 1px 2px rgba(60, 64, 67, 0.3), 0px 1px 3px 1px rgba(60, 64, 67, 0.15);\n",
              "      fill: #174EA6;\n",
              "    }\n",
              "\n",
              "    [theme=dark] .colab-df-convert {\n",
              "      background-color: #3B4455;\n",
              "      fill: #D2E3FC;\n",
              "    }\n",
              "\n",
              "    [theme=dark] .colab-df-convert:hover {\n",
              "      background-color: #434B5C;\n",
              "      box-shadow: 0px 1px 3px 1px rgba(0, 0, 0, 0.15);\n",
              "      filter: drop-shadow(0px 1px 2px rgba(0, 0, 0, 0.3));\n",
              "      fill: #FFFFFF;\n",
              "    }\n",
              "  </style>\n",
              "\n",
              "      <script>\n",
              "        const buttonEl =\n",
              "          document.querySelector('#df-6b3316c5-50df-4ada-b1b0-52b619a0faf1 button.colab-df-convert');\n",
              "        buttonEl.style.display =\n",
              "          google.colab.kernel.accessAllowed ? 'block' : 'none';\n",
              "\n",
              "        async function convertToInteractive(key) {\n",
              "          const element = document.querySelector('#df-6b3316c5-50df-4ada-b1b0-52b619a0faf1');\n",
              "          const dataTable =\n",
              "            await google.colab.kernel.invokeFunction('convertToInteractive',\n",
              "                                                     [key], {});\n",
              "          if (!dataTable) return;\n",
              "\n",
              "          const docLinkHtml = 'Like what you see? Visit the ' +\n",
              "            '<a target=\"_blank\" href=https://colab.research.google.com/notebooks/data_table.ipynb>data table notebook</a>'\n",
              "            + ' to learn more about interactive tables.';\n",
              "          element.innerHTML = '';\n",
              "          dataTable['output_type'] = 'display_data';\n",
              "          await google.colab.output.renderOutput(dataTable, element);\n",
              "          const docLink = document.createElement('div');\n",
              "          docLink.innerHTML = docLinkHtml;\n",
              "          element.appendChild(docLink);\n",
              "        }\n",
              "      </script>\n",
              "    </div>\n",
              "  </div>\n",
              "  "
            ]
          },
          "metadata": {},
          "execution_count": 78
        }
      ]
    },
    {
      "cell_type": "markdown",
      "metadata": {
        "id": "0K7cvvJntFW-"
      },
      "source": [
        "# *2.3.2 Remove specific rows**\n",
        "\n",
        "We can drop specific rows by passing index labels to the drop method."
      ]
    },
    {
      "cell_type": "code",
      "source": [
        "# remove selected column\n",
        "\n",
        "print(data.drop(\"text\", axis=1))"
      ],
      "metadata": {
        "colab": {
          "base_uri": "https://localhost:8080/"
        },
        "id": "yAAq3R5GTaLQ",
        "outputId": "a59d118a-69a7-4678-bda5-a276e9fdcd26"
      },
      "execution_count": null,
      "outputs": [
        {
          "output_type": "stream",
          "name": "stdout",
          "text": [
            "             review_id  confidence_score  review_score acceptance_status\n",
            "0     iclr_review_0000               3.0           6.0            Accept\n",
            "3     iclr_review_0003               3.0           5.0            Reject\n",
            "4     iclr_review_0004               3.0           8.0            Accept\n",
            "5     iclr_review_0005               4.0           7.0            Accept\n",
            "6     iclr_review_0006               4.0           6.0            Accept\n",
            "...                ...               ...           ...               ...\n",
            "6112  iclr_review_6112               4.0           5.0            Reject\n",
            "6113  iclr_review_6113               4.0           7.0            Accept\n",
            "6114  iclr_review_6114               3.0           7.0            Accept\n",
            "6116  iclr_review_6116               4.0           6.0            Reject\n",
            "6117  iclr_review_6117               4.0           3.0            Reject\n",
            "\n",
            "[3275 rows x 4 columns]\n"
          ]
        }
      ]
    },
    {
      "cell_type": "code",
      "source": [
        ""
      ],
      "metadata": {
        "id": "M94qsSYgJnZY"
      },
      "execution_count": null,
      "outputs": []
    },
    {
      "cell_type": "code",
      "source": [
        "data.head(3)"
      ],
      "metadata": {
        "colab": {
          "base_uri": "https://localhost:8080/",
          "height": 143
        },
        "id": "VAP01BXvrOiM",
        "outputId": "39bd5ae0-a0ee-425a-d5d9-d8c518ebc592"
      },
      "execution_count": null,
      "outputs": [
        {
          "output_type": "execute_result",
          "data": {
            "text/plain": [
              "          review_id                                               text  \\\n",
              "0  iclr_review_0000  Predicting Medications from Diagnostic Codes w...   \n",
              "3  iclr_review_0003  Sufficient Conditions for Robustness to Advers...   \n",
              "4  iclr_review_0004  Unsupervised Learning of the Set of Local Maxi...   \n",
              "\n",
              "   confidence_score  review_score acceptance_status  \n",
              "0               3.0           6.0            Accept  \n",
              "3               3.0           5.0            Reject  \n",
              "4               3.0           8.0            Accept  "
            ],
            "text/html": [
              "\n",
              "  <div id=\"df-59a7deb7-e4c3-4f88-8984-c1ba3963c729\">\n",
              "    <div class=\"colab-df-container\">\n",
              "      <div>\n",
              "<style scoped>\n",
              "    .dataframe tbody tr th:only-of-type {\n",
              "        vertical-align: middle;\n",
              "    }\n",
              "\n",
              "    .dataframe tbody tr th {\n",
              "        vertical-align: top;\n",
              "    }\n",
              "\n",
              "    .dataframe thead th {\n",
              "        text-align: right;\n",
              "    }\n",
              "</style>\n",
              "<table border=\"1\" class=\"dataframe\">\n",
              "  <thead>\n",
              "    <tr style=\"text-align: right;\">\n",
              "      <th></th>\n",
              "      <th>review_id</th>\n",
              "      <th>text</th>\n",
              "      <th>confidence_score</th>\n",
              "      <th>review_score</th>\n",
              "      <th>acceptance_status</th>\n",
              "    </tr>\n",
              "  </thead>\n",
              "  <tbody>\n",
              "    <tr>\n",
              "      <th>0</th>\n",
              "      <td>iclr_review_0000</td>\n",
              "      <td>Predicting Medications from Diagnostic Codes w...</td>\n",
              "      <td>3.0</td>\n",
              "      <td>6.0</td>\n",
              "      <td>Accept</td>\n",
              "    </tr>\n",
              "    <tr>\n",
              "      <th>3</th>\n",
              "      <td>iclr_review_0003</td>\n",
              "      <td>Sufficient Conditions for Robustness to Advers...</td>\n",
              "      <td>3.0</td>\n",
              "      <td>5.0</td>\n",
              "      <td>Reject</td>\n",
              "    </tr>\n",
              "    <tr>\n",
              "      <th>4</th>\n",
              "      <td>iclr_review_0004</td>\n",
              "      <td>Unsupervised Learning of the Set of Local Maxi...</td>\n",
              "      <td>3.0</td>\n",
              "      <td>8.0</td>\n",
              "      <td>Accept</td>\n",
              "    </tr>\n",
              "  </tbody>\n",
              "</table>\n",
              "</div>\n",
              "      <button class=\"colab-df-convert\" onclick=\"convertToInteractive('df-59a7deb7-e4c3-4f88-8984-c1ba3963c729')\"\n",
              "              title=\"Convert this dataframe to an interactive table.\"\n",
              "              style=\"display:none;\">\n",
              "        \n",
              "  <svg xmlns=\"http://www.w3.org/2000/svg\" height=\"24px\"viewBox=\"0 0 24 24\"\n",
              "       width=\"24px\">\n",
              "    <path d=\"M0 0h24v24H0V0z\" fill=\"none\"/>\n",
              "    <path d=\"M18.56 5.44l.94 2.06.94-2.06 2.06-.94-2.06-.94-.94-2.06-.94 2.06-2.06.94zm-11 1L8.5 8.5l.94-2.06 2.06-.94-2.06-.94L8.5 2.5l-.94 2.06-2.06.94zm10 10l.94 2.06.94-2.06 2.06-.94-2.06-.94-.94-2.06-.94 2.06-2.06.94z\"/><path d=\"M17.41 7.96l-1.37-1.37c-.4-.4-.92-.59-1.43-.59-.52 0-1.04.2-1.43.59L10.3 9.45l-7.72 7.72c-.78.78-.78 2.05 0 2.83L4 21.41c.39.39.9.59 1.41.59.51 0 1.02-.2 1.41-.59l7.78-7.78 2.81-2.81c.8-.78.8-2.07 0-2.86zM5.41 20L4 18.59l7.72-7.72 1.47 1.35L5.41 20z\"/>\n",
              "  </svg>\n",
              "      </button>\n",
              "      \n",
              "  <style>\n",
              "    .colab-df-container {\n",
              "      display:flex;\n",
              "      flex-wrap:wrap;\n",
              "      gap: 12px;\n",
              "    }\n",
              "\n",
              "    .colab-df-convert {\n",
              "      background-color: #E8F0FE;\n",
              "      border: none;\n",
              "      border-radius: 50%;\n",
              "      cursor: pointer;\n",
              "      display: none;\n",
              "      fill: #1967D2;\n",
              "      height: 32px;\n",
              "      padding: 0 0 0 0;\n",
              "      width: 32px;\n",
              "    }\n",
              "\n",
              "    .colab-df-convert:hover {\n",
              "      background-color: #E2EBFA;\n",
              "      box-shadow: 0px 1px 2px rgba(60, 64, 67, 0.3), 0px 1px 3px 1px rgba(60, 64, 67, 0.15);\n",
              "      fill: #174EA6;\n",
              "    }\n",
              "\n",
              "    [theme=dark] .colab-df-convert {\n",
              "      background-color: #3B4455;\n",
              "      fill: #D2E3FC;\n",
              "    }\n",
              "\n",
              "    [theme=dark] .colab-df-convert:hover {\n",
              "      background-color: #434B5C;\n",
              "      box-shadow: 0px 1px 3px 1px rgba(0, 0, 0, 0.15);\n",
              "      filter: drop-shadow(0px 1px 2px rgba(0, 0, 0, 0.3));\n",
              "      fill: #FFFFFF;\n",
              "    }\n",
              "  </style>\n",
              "\n",
              "      <script>\n",
              "        const buttonEl =\n",
              "          document.querySelector('#df-59a7deb7-e4c3-4f88-8984-c1ba3963c729 button.colab-df-convert');\n",
              "        buttonEl.style.display =\n",
              "          google.colab.kernel.accessAllowed ? 'block' : 'none';\n",
              "\n",
              "        async function convertToInteractive(key) {\n",
              "          const element = document.querySelector('#df-59a7deb7-e4c3-4f88-8984-c1ba3963c729');\n",
              "          const dataTable =\n",
              "            await google.colab.kernel.invokeFunction('convertToInteractive',\n",
              "                                                     [key], {});\n",
              "          if (!dataTable) return;\n",
              "\n",
              "          const docLinkHtml = 'Like what you see? Visit the ' +\n",
              "            '<a target=\"_blank\" href=https://colab.research.google.com/notebooks/data_table.ipynb>data table notebook</a>'\n",
              "            + ' to learn more about interactive tables.';\n",
              "          element.innerHTML = '';\n",
              "          dataTable['output_type'] = 'display_data';\n",
              "          await google.colab.output.renderOutput(dataTable, element);\n",
              "          const docLink = document.createElement('div');\n",
              "          docLink.innerHTML = docLinkHtml;\n",
              "          element.appendChild(docLink);\n",
              "        }\n",
              "      </script>\n",
              "    </div>\n",
              "  </div>\n",
              "  "
            ]
          },
          "metadata": {},
          "execution_count": 80
        }
      ]
    },
    {
      "cell_type": "markdown",
      "source": [
        "# 2.4 Further exploratory using the bar chat\n",
        "\n",
        "\n",
        "\n"
      ],
      "metadata": {
        "id": "3QGeZ-3mikML"
      }
    },
    {
      "cell_type": "code",
      "source": [
        "score = data.review_score.value_counts().plot(kind='bar')\n",
        "\n",
        "fig = score.get_figure()\n",
        "\n",
        "fig.savefig(\"score.png\");"
      ],
      "metadata": {
        "id": "wLneGnagKCGd",
        "colab": {
          "base_uri": "https://localhost:8080/",
          "height": 276
        },
        "outputId": "bc220f9b-4399-4994-f0cb-152f5df3790f"
      },
      "execution_count": null,
      "outputs": [
        {
          "output_type": "display_data",
          "data": {
            "text/plain": [
              "<Figure size 432x288 with 1 Axes>"
            ],
            "image/png": "[encoded data removed]"
          },
          "metadata": {
            "needs_background": "light"
          }
        }
      ]
    },
    {
      "cell_type": "code",
      "source": [
        "data.shape"
      ],
      "metadata": {
        "colab": {
          "base_uri": "https://localhost:8080/"
        },
        "id": "xEXj5DBfroc3",
        "outputId": "7c416d29-2ca7-4220-da80-d64ad922ecf2"
      },
      "execution_count": null,
      "outputs": [
        {
          "output_type": "execute_result",
          "data": {
            "text/plain": [
              "(3275, 5)"
            ]
          },
          "metadata": {},
          "execution_count": 82
        }
      ]
    },
    {
      "cell_type": "markdown",
      "source": [
        "3.1 #NEXT IS TFID VECTORISZER\n",
        "# Using tfidf conversion function. We discard tokens that appear in more than half the documents (max_df)\n",
        " We discard tokens that appear in less than 10 documents (min_df)\n",
        "We only use unigrams (ngram_range)"
      ],
      "metadata": {
        "id": "m9Px-0KjNadS"
      }
    },
    {
      "cell_type": "code",
      "source": [
        "from sklearn.feature_extraction.text import TfidfVectorizer\n",
        "\n",
        "vectorizer = TfidfVectorizer(max_df=0.5, min_df= 10, stop_words=\"english\", \n",
        "                             ngram_range= (1,1))#, sublinear_tf=True)\n",
        "# fit on and apply to training data\n",
        "X = vectorizer.fit_transform(data['text'])\n",
        "y=data['acceptance_status']"
      ],
      "metadata": {
        "id": "EeTkEi9kKPz1"
      },
      "execution_count": null,
      "outputs": []
    },
    {
      "cell_type": "code",
      "source": [
        "print(X)"
      ],
      "metadata": {
        "colab": {
          "base_uri": "https://localhost:8080/"
        },
        "id": "4BH0rNvzKX7E",
        "outputId": "ad50589b-8a6e-4f79-8545-b32dcc6c21ad"
      },
      "execution_count": null,
      "outputs": [
        {
          "output_type": "stream",
          "name": "stdout",
          "text": [
            "  (0, 4673)\t0.05796956868217538\n",
            "  (0, 1104)\t0.046901458806378665\n",
            "  (0, 3544)\t0.04490611716736125\n",
            "  (0, 2353)\t0.05228048059329899\n",
            "  (0, 1069)\t0.08634685968762751\n",
            "  (0, 3120)\t0.025592580038584146\n",
            "  (0, 2984)\t0.03951896411315237\n",
            "  (0, 400)\t0.042025478642245734\n",
            "  (0, 569)\t0.0842297055364024\n",
            "  (0, 3987)\t0.07212293485398621\n",
            "  (0, 2971)\t0.04911630932884475\n",
            "  (0, 1912)\t0.060418328393127135\n",
            "  (0, 2236)\t0.055092145378295834\n",
            "  (0, 170)\t0.0727904844954055\n",
            "  (0, 264)\t0.05188742566166973\n",
            "  (0, 1613)\t0.09593495229082306\n",
            "  (0, 698)\t0.0869271238814221\n",
            "  (0, 399)\t0.0432714716860649\n",
            "  (0, 2628)\t0.05530003882884267\n",
            "  (0, 2663)\t0.06311574673814682\n",
            "  (0, 964)\t0.04967820624472587\n",
            "  (0, 3616)\t0.06409427456419738\n",
            "  (0, 5046)\t0.09400776443582887\n",
            "  (0, 1612)\t0.08691671273251463\n",
            "  (0, 2495)\t0.06356941868608881\n",
            "  :\t:\n",
            "  (3274, 1864)\t0.027013405510731777\n",
            "  (3274, 3712)\t0.03387379538010176\n",
            "  (3274, 3324)\t0.022394384472451387\n",
            "  (3274, 1440)\t0.05008840713602383\n",
            "  (3274, 597)\t0.05086621401430216\n",
            "  (3274, 3544)\t0.03823349970938939\n",
            "  (3274, 3120)\t0.021789768592572117\n",
            "  (3274, 2971)\t0.04181809777612115\n",
            "  (3274, 5046)\t0.10671881875520176\n",
            "  (3274, 4063)\t0.03152524320154025\n",
            "  (3274, 3380)\t0.03453635784863075\n",
            "  (3274, 1608)\t0.022129360219777867\n",
            "  (3274, 2429)\t0.037971367188402036\n",
            "  (3274, 240)\t0.03676293655320006\n",
            "  (3274, 1496)\t0.03697420304584078\n",
            "  (3274, 773)\t0.029326932782561446\n",
            "  (3274, 2138)\t0.04275159657572659\n",
            "  (3274, 972)\t0.028471418069670046\n",
            "  (3274, 2967)\t0.030754474093171134\n",
            "  (3274, 628)\t0.03408374139583719\n",
            "  (3274, 1024)\t0.03883631661322463\n",
            "  (3274, 2275)\t0.042215495697278504\n",
            "  (3274, 409)\t0.046964706922297976\n",
            "  (3274, 1828)\t0.04465829250469773\n",
            "  (3274, 4531)\t0.05390632806254136\n"
          ]
        }
      ]
    },
    {
      "cell_type": "markdown",
      "source": [
        "#3.2  Binary Classificaion"
      ],
      "metadata": {
        "id": "qOaZdMnGgdNd"
      }
    },
    {
      "cell_type": "code",
      "source": [
        "data['binary_category'] = data['acceptance_status'].factorize()[0]\n",
        "y= data['binary_category']\n",
        "print(y.shape)"
      ],
      "metadata": {
        "colab": {
          "base_uri": "https://localhost:8080/"
        },
        "id": "cX9pkVGOKlnG",
        "outputId": "bbd926ed-0b33-49b6-cbd3-0447552b71d6"
      },
      "execution_count": null,
      "outputs": [
        {
          "output_type": "stream",
          "name": "stdout",
          "text": [
            "(3275,)\n"
          ]
        }
      ]
    },
    {
      "cell_type": "markdown",
      "source": [
        "#4.1 Training the data dataset"
      ],
      "metadata": {
        "id": "1icVQ3oqdwnD"
      }
    },
    {
      "cell_type": "code",
      "source": [
        "from sklearn.model_selection import train_test_split\n",
        "X_train, x_test, y_train, y_test = train_test_split(X, y, test_size=0.3)\n",
        "print(y_train.shape)"
      ],
      "metadata": {
        "colab": {
          "base_uri": "https://localhost:8080/"
        },
        "id": "IloJrPmzKpiK",
        "outputId": "a0e4bbc9-cc79-4e7e-80e3-21043e7f2f23"
      },
      "execution_count": null,
      "outputs": [
        {
          "output_type": "stream",
          "name": "stdout",
          "text": [
            "(2292,)\n"
          ]
        }
      ]
    },
    {
      "cell_type": "markdown",
      "source": [
        "# 5.1.  Modelling with Logistics Regression with Hyper-parameter tunning.(Using GridSearchCV)\n",
        "GridSearchCV is a convenient function in scikit-learn that helps us fine-tune the hyper-parameters of our ML mod"
      ],
      "metadata": {
        "id": "YQIevshC67Zu"
      }
    },
    {
      "cell_type": "code",
      "source": [
        "#Logistic analysis Modeling\n",
        "import warnings\n",
        "warnings.filterwarnings('ignore')\n",
        "from sklearn.linear_model import LogisticRegression\n",
        "from sklearn.preprocessing import StandardScaler\n",
        "from sklearn.metrics import confusion_matrix, accuracy_score, recall_score, precision_score, f1_score\n",
        "from sklearn.model_selection import GridSearchCV\n",
        "\n",
        "# hyper-parameter tuning using in-built GridSearchCV\n",
        "# pipeline is used to standardisation and also creating the normal instance of a LogisticRegression\n",
        "# This may take a while: good to set the max_iter parameter as well...\n",
        "param_grid=[{'C': np.logspace(-4,4,15)}, #inverse of regularization strength\n",
        "           {'penalty': ['l1', 'l2']},\n",
        "           {'solver': ['lbfgs', 'liblinear', 'adam']},\n",
        "          {'max_iter': [10000]}] #we set this low to speed things up\n",
        "\n",
        "lr = LogisticRegression(class_weight='balanced')\n",
        "\n",
        "\n",
        "grid = GridSearchCV(estimator=lr, param_grid=param_grid, cv=10, scoring='recall', refit=True) # you can change scoring function that will impact the estimator\n",
        "grid = grid.fit(X_train, y_train)\n",
        "print('Best estimator: {}\\nWeights: {}, Intercept: {}\\nBest params: {}\\nScorer: {}'.format(grid.best_estimator_, \n",
        "                                                                                           grid.best_estimator_.coef_, \n",
        "                                                                                           grid.best_estimator_.intercept_,\n",
        "                                                                                           grid.best_params_, \n",
        "                                                                                           grid.scorer_))\n",
        "print('Available parameters for the estimator (fine-tuning): ',lr.get_params().keys())"
      ],
      "metadata": {
        "colab": {
          "base_uri": "https://localhost:8080/"
        },
        "id": "e-0wNjcQLGwp",
        "outputId": "27ac9d4e-4da0-4e00-d50f-f053090cd3e8"
      },
      "execution_count": null,
      "outputs": [
        {
          "output_type": "stream",
          "name": "stdout",
          "text": [
            "Best estimator: LogisticRegression(C=719.6856730011514, class_weight='balanced')\n",
            "Weights: [[ 0.00835233  0.11992895  1.06972178 ...  1.28839292 -1.10583722\n",
            "  -0.13483108]], Intercept: [-0.61036768]\n",
            "Best params: {'C': 719.6856730011514}\n",
            "Scorer: make_scorer(recall_score, average=binary)\n",
            "Available parameters for the estimator (fine-tuning):  dict_keys(['C', 'class_weight', 'dual', 'fit_intercept', 'intercept_scaling', 'l1_ratio', 'max_iter', 'multi_class', 'n_jobs', 'penalty', 'random_state', 'solver', 'tol', 'verbose', 'warm_start'])\n"
          ]
        }
      ]
    },
    {
      "cell_type": "code",
      "source": [
        "lr = LogisticRegression(C=719.7, class_weight='balanced')\n",
        "model=lr.fit(X_train,y_train)"
      ],
      "metadata": {
        "id": "Br6XQ-Q2LfXA"
      },
      "execution_count": null,
      "outputs": []
    },
    {
      "cell_type": "code",
      "source": [
        "print(x_test)"
      ],
      "metadata": {
        "colab": {
          "base_uri": "https://localhost:8080/"
        },
        "id": "9acB-D1cLn0V",
        "outputId": "46ec8a33-51eb-484c-db0f-492aed81e467"
      },
      "execution_count": null,
      "outputs": [
        {
          "output_type": "stream",
          "name": "stdout",
          "text": [
            "  (0, 2747)\t0.039702727380389\n",
            "  (0, 138)\t0.079405454760778\n",
            "  (0, 3439)\t0.03883259100141582\n",
            "  (0, 4925)\t0.03115742707423479\n",
            "  (0, 78)\t0.03883259100141582\n",
            "  (0, 2852)\t0.035487989280714574\n",
            "  (0, 1857)\t0.039252107797007614\n",
            "  (0, 5361)\t0.037395209710420825\n",
            "  (0, 601)\t0.03650377530002335\n",
            "  (0, 3677)\t0.0350373696973332\n",
            "  (0, 5438)\t0.039252107797007614\n",
            "  (0, 5423)\t0.040718513399697766\n",
            "  (0, 552)\t0.079405454760778\n",
            "  (0, 788)\t0.033680527090455825\n",
            "  (0, 1642)\t0.03678664405833733\n",
            "  (0, 4352)\t0.035726474033534315\n",
            "  (0, 1450)\t0.03883259100141582\n",
            "  (0, 5348)\t0.03385678817829105\n",
            "  (0, 1169)\t0.29666653312329344\n",
            "  (0, 4944)\t0.033680527090455825\n",
            "  (0, 3937)\t0.03844015924728905\n",
            "  (0, 1548)\t0.03844015924728905\n",
            "  (0, 1294)\t0.035974695508618766\n",
            "  (0, 1173)\t0.03151173593385989\n",
            "  (0, 3377)\t0.03708331664041168\n",
            "  :\t:\n",
            "  (982, 5040)\t0.04389053339003981\n",
            "  (982, 4248)\t0.08153338562359493\n",
            "  (982, 1367)\t0.04586596779263486\n",
            "  (982, 3969)\t0.03526167041478821\n",
            "  (982, 2991)\t0.028114860033312258\n",
            "  (982, 2619)\t0.04344737482823121\n",
            "  (982, 3510)\t0.04921518339940008\n",
            "  (982, 3345)\t0.06226639014859081\n",
            "  (982, 2462)\t0.031497504206407276\n",
            "  (982, 597)\t0.05343697035778295\n",
            "  (982, 4359)\t0.09734996459025497\n",
            "  (982, 1104)\t0.04195051650504036\n",
            "  (982, 3544)\t0.04016580416365343\n",
            "  (982, 264)\t0.0464101621147847\n",
            "  (982, 2628)\t0.19785015226888694\n",
            "  (982, 964)\t0.044434149044565344\n",
            "  (982, 5298)\t0.02250287062818809\n",
            "  (982, 1608)\t0.02324776846510491\n",
            "  (982, 3988)\t0.07369402081190059\n",
            "  (982, 773)\t0.03080910321624866\n",
            "  (982, 3000)\t0.040042704769622954\n",
            "  (982, 4837)\t0.035134223945604025\n",
            "  (982, 3386)\t0.02730675752535856\n",
            "  (982, 188)\t0.032654774673950004\n",
            "  (982, 1985)\t0.03802909724956896\n"
          ]
        }
      ]
    },
    {
      "cell_type": "code",
      "source": [
        ""
      ],
      "metadata": {
        "id": "v4zHCoP2LrQV"
      },
      "execution_count": null,
      "outputs": []
    },
    {
      "cell_type": "code",
      "source": [
        "y_predict=lr.predict(x_test)"
      ],
      "metadata": {
        "id": "Jza2yWuaLuYF"
      },
      "execution_count": null,
      "outputs": []
    },
    {
      "cell_type": "code",
      "source": [
        "from sklearn.metrics import classification_report, accuracy_score\n",
        "\n",
        "print(classification_report(y_test,y_predict))"
      ],
      "metadata": {
        "colab": {
          "base_uri": "https://localhost:8080/"
        },
        "id": "LSNVCc6oLzwe",
        "outputId": "b295f917-b551-464f-9e20-6d2aa270b3af"
      },
      "execution_count": null,
      "outputs": [
        {
          "output_type": "stream",
          "name": "stdout",
          "text": [
            "              precision    recall  f1-score   support\n",
            "\n",
            "           0       0.70      0.68      0.69       422\n",
            "           1       0.76      0.79      0.77       561\n",
            "\n",
            "    accuracy                           0.74       983\n",
            "   macro avg       0.73      0.73      0.73       983\n",
            "weighted avg       0.74      0.74      0.74       983\n",
            "\n"
          ]
        }
      ]
    },
    {
      "cell_type": "code",
      "source": [
        "data['acceptance_status'].value_counts()\n",
        "\n",
        "data.columns"
      ],
      "metadata": {
        "colab": {
          "base_uri": "https://localhost:8080/"
        },
        "id": "13BogFNlMDR6",
        "outputId": "e132a8a2-de24-46ff-c4cb-d46c6354517c"
      },
      "execution_count": null,
      "outputs": [
        {
          "output_type": "execute_result",
          "data": {
            "text/plain": [
              "Index(['review_id', 'text', 'confidence_score', 'review_score',\n",
              "       'acceptance_status', 'binary_category'],\n",
              "      dtype='object')"
            ]
          },
          "metadata": {},
          "execution_count": 92
        }
      ]
    },
    {
      "cell_type": "code",
      "source": [
        "#2nd Analysis\n",
        "from sklearn.feature_extraction.text import TfidfVectorizer\n",
        "\n",
        "vectorizer = TfidfVectorizer(max_df=0.5, min_df= 10, stop_words=\"english\", \n",
        "                             ngram_range= (1,1))#, sublinear_tf=True)\n",
        "# fit on and apply to training data\n",
        "X = vectorizer.fit_transform(data['text'])\n",
        "y_2=data['review_score']"
      ],
      "metadata": {
        "id": "iWpt0WXmMHg6"
      },
      "execution_count": null,
      "outputs": []
    },
    {
      "cell_type": "code",
      "source": [
        "x_train, x_test, y_2_train, y_2_test = train_test_split(X, y_2, test_size=0.3)\n",
        "print(y_train.shape)"
      ],
      "metadata": {
        "colab": {
          "base_uri": "https://localhost:8080/"
        },
        "id": "AQcrTUg5MK4L",
        "outputId": "af09ba89-c06d-4f4a-bd88-eafc007369f9"
      },
      "execution_count": null,
      "outputs": [
        {
          "output_type": "stream",
          "name": "stdout",
          "text": [
            "(2292,)\n"
          ]
        }
      ]
    },
    {
      "cell_type": "code",
      "source": [
        "#Second model algorthm model - support vector machine\n",
        "from sklearn import svm\n",
        "clf = svm.SVC()\n",
        "\n"
      ],
      "metadata": {
        "id": "sNf1ELt6ub5I"
      },
      "execution_count": null,
      "outputs": []
    },
    {
      "cell_type": "code",
      "source": [
        "clf.fit(x_train, y_2_train)"
      ],
      "metadata": {
        "colab": {
          "base_uri": "https://localhost:8080/"
        },
        "id": "WlEUKQzEvdvL",
        "outputId": "6cd0f083-60d5-4100-c049-bf8ff3ad95e2"
      },
      "execution_count": null,
      "outputs": [
        {
          "output_type": "execute_result",
          "data": {
            "text/plain": [
              "SVC()"
            ]
          },
          "metadata": {},
          "execution_count": 123
        }
      ]
    },
    {
      "cell_type": "code",
      "source": [
        "y_2_predict = clf.predict(x_test)\n",
        "print(classification_report(y_2_test,y_2_predict))"
      ],
      "metadata": {
        "colab": {
          "base_uri": "https://localhost:8080/"
        },
        "id": "6J9bt111yaru",
        "outputId": "447582b0-4242-4817-82d7-612fb1298b94"
      },
      "execution_count": null,
      "outputs": [
        {
          "output_type": "stream",
          "name": "stdout",
          "text": [
            "              precision    recall  f1-score   support\n",
            "\n",
            "        -1.0       0.00      0.00      0.00        24\n",
            "         1.0       0.00      0.00      0.00         2\n",
            "         2.0       0.00      0.00      0.00        23\n",
            "         3.0       0.33      0.01      0.02        92\n",
            "         4.0       0.31      0.24      0.27       184\n",
            "         5.0       0.17      0.30      0.22       155\n",
            "         6.0       0.27      0.45      0.34       233\n",
            "         7.0       0.30      0.26      0.28       184\n",
            "         8.0       0.25      0.02      0.03        65\n",
            "         9.0       0.00      0.00      0.00        20\n",
            "        10.0       0.00      0.00      0.00         1\n",
            "\n",
            "    accuracy                           0.25       983\n",
            "   macro avg       0.15      0.12      0.11       983\n",
            "weighted avg       0.25      0.25      0.22       983\n",
            "\n"
          ]
        }
      ]
    },
    {
      "cell_type": "markdown",
      "source": [
        "EVALUATION "
      ],
      "metadata": {
        "id": "GyL2GWdHh-B8"
      }
    },
    {
      "cell_type": "code",
      "source": [
        "#To wrap common procedures into functions for ease of re-usability\n",
        "\n",
        "def evaluate_classifier(grid, X_train, y_train, X_test, y_test):\n",
        "    # model evaluation for training set\n",
        "    y_train_predict = grid.predict(X_train)\n",
        "    print(\"Training SET\")\n",
        "    print(\"--------------------------------------\")\n",
        "    print('Accuracy: {:.3f}, Precision: {:.3f}, Recall: {:.3f}, F1 Score: {:.3f}'.format(accuracy_score(y_train, y_train_predict), \n",
        "                                                                                        precision_score(y_train, y_train_predict), \n",
        "                                                                                        recall_score(y_train, y_train_predict), \n",
        "                                                                                        f1_score(y_train, y_train_predict)))\n",
        "    print(\"Confusion Matrix:\\n {}\".format(confusion_matrix(y_train, y_train_predict)))\n",
        "\n",
        "    # model evaluation for testing set\n",
        "    y_test_predict = grid.predict(X_test)\n",
        "\n",
        "    print(\"\\nTesting SET\")\n",
        "    print(\"--------------------------------------\")\n",
        "    print('Accuracy: {:.3f}, Precision: {:.3f}, Recall: {:.3f}, F1 Score: {:.3f}'.format(accuracy_score(y_test, y_test_predict), \n",
        "                                                                                        precision_score(y_test, y_test_predict), \n",
        "                                                                                        recall_score(y_test, y_test_predict), \n",
        "                                                                                        f1_score(y_test, y_test_predict)))\n",
        "    print(\"Confusion Matrix:\\n {}\".format(confusion_matrix(y_test, y_test_predict)))\n",
        "    return y_train_predict, y_test_predict\n",
        "\n",
        "y_train_predict, y_test_predict = evaluate_classifier(grid, X_train, y_train, x_test, y_test)"
      ],
      "metadata": {
        "colab": {
          "base_uri": "https://localhost:8080/"
        },
        "id": "-5q_AZjpgp8-",
        "outputId": "4353b4c7-2fa6-4ca6-e748-4ec76b4a2698"
      },
      "execution_count": null,
      "outputs": [
        {
          "output_type": "stream",
          "name": "stdout",
          "text": [
            "Training SET\n",
            "--------------------------------------\n",
            "Accuracy: 0.993, Precision: 1.000, Recall: 0.988, F1 Score: 0.994\n",
            "Confusion Matrix:\n",
            " [[ 901    0]\n",
            " [  16 1375]]\n",
            "\n",
            "Testing SET\n",
            "--------------------------------------\n",
            "Accuracy: 0.487, Precision: 0.550, Recall: 0.563, F1 Score: 0.556\n",
            "Confusion Matrix:\n",
            " [[163 259]\n",
            " [245 316]]\n"
          ]
        }
      ]
    },
    {
      "cell_type": "markdown",
      "source": [
        "More Evaluation using the Roc Curve"
      ],
      "metadata": {
        "id": "J6Epg9UjFZ11"
      }
    },
    {
      "cell_type": "code",
      "source": [
        "from sklearn.metrics import roc_curve\n",
        "from sklearn.metrics import roc_auc_score\n",
        "\n",
        "def roc_classifier(grid, X_train, y_train, X_test, y_test):\n",
        "    # predict probabilities\n",
        "    lr_probs_train = grid.predict_proba(X_train)\n",
        "    lr_probs_test = grid.predict_proba(X_test)\n",
        "    # keep probabilities for the positive outcome only\n",
        "    lr_probs_train = lr_probs_train[:, 1]\n",
        "    lr_probs_test = lr_probs_test[:, 1]\n",
        "\n",
        "    print('ROC AUC (Training)={:.3f}'.format(roc_auc_score(y_train, lr_probs_train)))\n",
        "    print('ROC AUC (Testing)={:.3f}'.format(roc_auc_score(y_test, lr_probs_test)))\n",
        "\n",
        "    # compute false positive and true positive rates\n",
        "    lr_fpr_train, lr_tpr_train, _ = roc_curve(y_train, lr_probs_train)\n",
        "    lr_fpr_test, lr_tpr_test, _ = roc_curve(y_test, lr_probs_test)\n",
        "\n",
        "    # plot the roc curve for the training set\n",
        "    _ = plt.figure(figsize=(15, 5))\n",
        "    ax1 =plt.subplot(121)\n",
        "    _ = ax1.plot(lr_fpr_train, lr_tpr_train, marker='x')\n",
        "    _ = ax1.plot([0,1], [0, 1], 'gray', linestyle=':', marker='')\n",
        "    _ = ax1.set_title('Receiver Operating Characteristics (ROC) - Training')\n",
        "    _ = ax1.set_xlabel('False Positive Rate')\n",
        "    _ = ax1.set_ylabel('True Positive Rate')\n",
        "\n",
        "    # plot the roc curve for the testing set\n",
        "    ax2 = plt.subplot(122)\n",
        "    _ = ax2.plot(lr_fpr_test, lr_tpr_test, marker='x')\n",
        "    _ = ax2.plot([0,1], [0, 1], 'gray', linestyle=':', marker='')\n",
        "    _ = ax2.set_title('Receiver Operating Characteristics (ROC) - Testing')\n",
        "    _ = ax2.set_xlabel('False Positive Rate')\n",
        "    _ = ax2.set_ylabel('True Positive Rate')\n",
        "\n",
        "    return (lr_probs_train, lr_fpr_train, lr_tpr_train, \n",
        "            lr_probs_test,  lr_fpr_test, lr_tpr_test)\n",
        "\n",
        "lr_probs_train, lr_fpr_train, lr_tpr_train, lr_probs_test, lr_fpr_test, lr_tpr_test = roc_classifier(\n",
        "                                                                    grid, X_train, y_train, x_test, y_test)"
      ],
      "metadata": {
        "colab": {
          "base_uri": "https://localhost:8080/",
          "height": 386
        },
        "id": "L91TQnY-i0NW",
        "outputId": "4dd9cd6c-b317-4336-9d34-b86f36be880f"
      },
      "execution_count": null,
      "outputs": [
        {
          "output_type": "stream",
          "name": "stdout",
          "text": [
            "ROC AUC (Training)=1.000\n",
            "ROC AUC (Testing)=0.467\n"
          ]
        },
        {
          "output_type": "display_data",
          "data": {
            "text/plain": [
              "<Figure size 1080x360 with 2 Axes>"
            ],
            "image/png": "[encoded data removed]"
          },
          "metadata": {
            "needs_background": "light"
          }
        }
      ]
    },
    {
      "cell_type": "code",
      "source": [
        "def exclusion(text, review_score, acceptance_status):\n",
        "  value = 1\n",
        "  if text == ' ' or review_score == ' ' or acceptance_status == ' ':\n",
        "    value = 1\n",
        "  else:\n",
        "      value = 0\n",
        "  return value"
      ],
      "metadata": {
        "id": "Rr9dxtFGFzrM"
      },
      "execution_count": null,
      "outputs": []
    },
    {
      "cell_type": "code",
      "source": [
        "data['excluded'] =data[['text', 'review_score','acceptance_status']].apply(lambda X : exclusion(*X), axis = 1)"
      ],
      "metadata": {
        "id": "GwJKGgIAF4Ut"
      },
      "execution_count": null,
      "outputs": []
    },
    {
      "cell_type": "code",
      "source": [
        "def reason(row):\n",
        "  if row['excluded'] == 1:\n",
        "    return 'missing_value'\n",
        "  else:\n",
        "    return 'N/A'"
      ],
      "metadata": {
        "id": "NkoKEYU9GOcD"
      },
      "execution_count": null,
      "outputs": []
    },
    {
      "cell_type": "code",
      "source": [
        "data['reason_for_exclusion'] = data.apply(lambda row: reason(row), axis=1)"
      ],
      "metadata": {
        "id": "Bag6T4PvGSyi"
      },
      "execution_count": null,
      "outputs": []
    },
    {
      "cell_type": "code",
      "source": [
        "data.to_csv('reason_for_exclusion.csv')"
      ],
      "metadata": {
        "id": "o1LYp9Z4GWd4"
      },
      "execution_count": null,
      "outputs": []
    }
  ]
}